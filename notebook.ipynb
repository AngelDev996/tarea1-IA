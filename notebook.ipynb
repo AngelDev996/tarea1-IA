{
 "cells": [
  {
   "cell_type": "code",
   "execution_count": 1,
   "metadata": {},
   "outputs": [],
   "source": [
    "import pandas as pd"
   ]
  },
  {
   "cell_type": "code",
   "execution_count": 2,
   "metadata": {},
   "outputs": [],
   "source": [
    "df1 = pd.read_csv(\"studentscsv.csv\")\n",
    "df2 = pd.read_json(\"studentsjson.json\")"
   ]
  },
  {
   "cell_type": "code",
   "execution_count": 3,
   "metadata": {},
   "outputs": [],
   "source": [
    "df4 = df1.merge(df2, how='outer')"
   ]
  },
  {
   "cell_type": "code",
   "execution_count": 4,
   "metadata": {},
   "outputs": [
    {
     "name": "stdout",
     "output_type": "stream",
     "text": [
      "     Student ID First Name   Last Name Country  Student Number  Grade  Status  \\\n",
      "0         13001        Ora       Klein      ES           13001      9  Active   \n",
      "1         13002     Beulah    McMillan      US           13002     10  Active   \n",
      "2         13003   Florence       Stark      UK           13003     12  Active   \n",
      "3         13004       Noah  Gilbertson      ES           13004      9  Active   \n",
      "4         13005       Erna      Parker      ES           13005     11  Active   \n",
      "..          ...        ...         ...     ...             ...    ...     ...   \n",
      "181       14097     Mignon     Redmond      ES          150994      9  Active   \n",
      "182       14098    Caritta     Belldas      US          150995      9  Active   \n",
      "183       14099      Susan        Tjon      US          150991      7  Active   \n",
      "184       14100     Nadine       Shama      ES          150992     10  Active   \n",
      "185       14101    Beatriz       Eiser      CA          150993      8  Active   \n",
      "\n",
      "      Birthdate  Graduation Year  Age             Career  \n",
      "0     10/3/1999             2019   23           Business  \n",
      "1     18/4/1999             2018   23            Finance  \n",
      "2     20/5/1999             2016   23        Mathematics  \n",
      "3     19/8/1999             2019   23          Chemistry  \n",
      "4      9/1/2000             2017   22       Psychiatrist  \n",
      "..          ...              ...  ...                ...  \n",
      "181  14/12/2002             2017   19  Political_Science  \n",
      "182   22/7/2003             2020   19     Communications  \n",
      "183  19/10/2003             2018   18       Biochemistry  \n",
      "184  31/10/2003             2020   18           Business  \n",
      "185  24/12/2003             2017   18          Chemistry  \n",
      "\n",
      "[186 rows x 11 columns]\n"
     ]
    }
   ],
   "source": [
    "print(df4)"
   ]
  }
 ],
 "metadata": {
  "kernelspec": {
   "display_name": "Python 3.10.4 ('ia-env')",
   "language": "python",
   "name": "python3"
  },
  "language_info": {
   "codemirror_mode": {
    "name": "ipython",
    "version": 3
   },
   "file_extension": ".py",
   "mimetype": "text/x-python",
   "name": "python",
   "nbconvert_exporter": "python",
   "pygments_lexer": "ipython3",
   "version": "3.10.4"
  },
  "orig_nbformat": 4,
  "vscode": {
   "interpreter": {
    "hash": "ce565f17b2b299912d6b342fe9de5dbeebc51a5e64353c272a181ae0c5521d41"
   }
  }
 },
 "nbformat": 4,
 "nbformat_minor": 2
}
